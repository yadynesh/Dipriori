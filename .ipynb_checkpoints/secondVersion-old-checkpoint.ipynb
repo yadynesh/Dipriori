{
 "cells": [
  {
   "cell_type": "code",
   "execution_count": 1,
   "metadata": {
    "collapsed": true
   },
   "outputs": [],
   "source": [
    "import pandas as pd\n",
    "import itertools as iter\n",
    "import re"
   ]
  },
  {
   "cell_type": "code",
   "execution_count": 2,
   "metadata": {
    "collapsed": false
   },
   "outputs": [
    {
     "data": {
      "text/html": [
       "<div>\n",
       "<table border=\"1\" class=\"dataframe\">\n",
       "  <thead>\n",
       "    <tr style=\"text-align: right;\">\n",
       "      <th></th>\n",
       "      <th>A</th>\n",
       "      <th>B</th>\n",
       "      <th>C</th>\n",
       "      <th>D</th>\n",
       "      <th>E</th>\n",
       "      <th>F</th>\n",
       "      <th>G</th>\n",
       "    </tr>\n",
       "  </thead>\n",
       "  <tbody>\n",
       "    <tr>\n",
       "      <th>0</th>\n",
       "      <td>1</td>\n",
       "      <td>0</td>\n",
       "      <td>1</td>\n",
       "      <td>1</td>\n",
       "      <td>0</td>\n",
       "      <td>1</td>\n",
       "      <td>1</td>\n",
       "    </tr>\n",
       "    <tr>\n",
       "      <th>1</th>\n",
       "      <td>1</td>\n",
       "      <td>1</td>\n",
       "      <td>1</td>\n",
       "      <td>1</td>\n",
       "      <td>0</td>\n",
       "      <td>1</td>\n",
       "      <td>0</td>\n",
       "    </tr>\n",
       "    <tr>\n",
       "      <th>2</th>\n",
       "      <td>1</td>\n",
       "      <td>0</td>\n",
       "      <td>0</td>\n",
       "      <td>1</td>\n",
       "      <td>0</td>\n",
       "      <td>1</td>\n",
       "      <td>0</td>\n",
       "    </tr>\n",
       "    <tr>\n",
       "      <th>3</th>\n",
       "      <td>0</td>\n",
       "      <td>0</td>\n",
       "      <td>1</td>\n",
       "      <td>1</td>\n",
       "      <td>1</td>\n",
       "      <td>0</td>\n",
       "      <td>0</td>\n",
       "    </tr>\n",
       "    <tr>\n",
       "      <th>4</th>\n",
       "      <td>1</td>\n",
       "      <td>0</td>\n",
       "      <td>0</td>\n",
       "      <td>1</td>\n",
       "      <td>1</td>\n",
       "      <td>1</td>\n",
       "      <td>0</td>\n",
       "    </tr>\n",
       "    <tr>\n",
       "      <th>5</th>\n",
       "      <td>0</td>\n",
       "      <td>1</td>\n",
       "      <td>1</td>\n",
       "      <td>1</td>\n",
       "      <td>1</td>\n",
       "      <td>1</td>\n",
       "      <td>1</td>\n",
       "    </tr>\n",
       "  </tbody>\n",
       "</table>\n",
       "</div>"
      ],
      "text/plain": [
       "   A  B  C  D  E  F  G\n",
       "0  1  0  1  1  0  1  1\n",
       "1  1  1  1  1  0  1  0\n",
       "2  1  0  0  1  0  1  0\n",
       "3  0  0  1  1  1  0  0\n",
       "4  1  0  0  1  1  1  0\n",
       "5  0  1  1  1  1  1  1"
      ]
     },
     "execution_count": 2,
     "metadata": {},
     "output_type": "execute_result"
    }
   ],
   "source": [
    "transactions = pd.read_csv(\"sampledataset.csv\")\n",
    "transactions"
   ]
  },
  {
   "cell_type": "code",
   "execution_count": 3,
   "metadata": {
    "collapsed": false
   },
   "outputs": [
    {
     "name": "stdout",
     "output_type": "stream",
     "text": [
      "A    4\n",
      "B    2\n",
      "C    4\n",
      "D    6\n",
      "E    3\n",
      "F    5\n",
      "G    2\n",
      "dtype: int64\n"
     ]
    }
   ],
   "source": [
    "one_item_count = transactions.sum(axis=0)\n",
    "print(one_item_count)"
   ]
  },
  {
   "cell_type": "code",
   "execution_count": 4,
   "metadata": {
    "collapsed": false
   },
   "outputs": [
    {
     "data": {
      "text/plain": [
       "A    4\n",
       "C    4\n",
       "D    6\n",
       "E    3\n",
       "F    5\n",
       "dtype: int64"
      ]
     },
     "execution_count": 4,
     "metadata": {},
     "output_type": "execute_result"
    }
   ],
   "source": [
    "minimum_support = 3\n",
    "frequent_one_item_count = one_item_count[one_item_count>=minimum_support]\n",
    "frequent_one_item_count"
   ]
  },
  {
   "cell_type": "code",
   "execution_count": 9,
   "metadata": {
    "collapsed": false
   },
   "outputs": [],
   "source": [
    "import socket\n",
    "import pickle\n",
    "host = '127.0.0.1'\n",
    "port = 5000\n",
    "s = socket.socket()\n",
    "s.connect((host,port))\n",
    "s.send(pickle.dumps(frequent_one_item_count))\n",
    "data = s.recv(500000)"
   ]
  },
  {
   "cell_type": "code",
   "execution_count": 10,
   "metadata": {
    "collapsed": false
   },
   "outputs": [
    {
     "name": "stdout",
     "output_type": "stream",
     "text": [
      "A    4.0\n",
      "C    4.0\n",
      "D    6.0\n",
      "F    5.0\n",
      "dtype: float64\n"
     ]
    }
   ],
   "source": [
    "global_frequent_one_itemset = pickle.loads(data)\n",
    "print(global_frequent_one_itemset)\n"
   ]
  },
  {
   "cell_type": "code",
   "execution_count": 11,
   "metadata": {
    "collapsed": true
   },
   "outputs": [],
   "source": [
    "def pset(lst):\n",
    "    comb = (iter.combinations(lst, l) for l in range(2,3))\n",
    "    return list(iter.chain.from_iterable(comb))"
   ]
  },
  {
   "cell_type": "code",
   "execution_count": 15,
   "metadata": {
    "collapsed": false
   },
   "outputs": [
    {
     "data": {
      "text/plain": [
       "A,D    4\n",
       "A,F    4\n",
       "C,D    4\n",
       "D,F    5\n",
       "dtype: int64"
      ]
     },
     "execution_count": 15,
     "metadata": {},
     "output_type": "execute_result"
    }
   ],
   "source": [
    "two_item_count = pd.Series()\n",
    "combinations = pset(transactions)\n",
    "for column_index in combinations: \n",
    "\n",
    "    columns = str(column_index).strip(\"(,')\").split()\n",
    "    column1 = columns[0].strip(\"',\")\n",
    "    column2 = columns[1].strip(\"',\")\n",
    "    #print(column1)\n",
    "    if(column1 in global_frequent_one_itemset.index and column2 in global_frequent_one_itemset.index):\n",
    "        temp = pd.Series([(transactions[column1] & transactions[column2]).sum()],index = [column1+\",\"+column2])\n",
    "        \n",
    "        two_item_count = two_item_count.append(temp)\n",
    "    \n",
    "two_item_count\n",
    "frequent_two_item_count = two_item_count[two_item_count>minimum_support]\n",
    "frequent_two_item_count"
   ]
  },
  {
   "cell_type": "code",
   "execution_count": null,
   "metadata": {
    "collapsed": true
   },
   "outputs": [],
   "source": [
    "import socket\n",
    "import pickle\n",
    "host = '127.0.0.1'\n",
    "port = 5000\n",
    "s = socket.socket()\n",
    "s.connect((host,port))\n",
    "s.send(pickle.dumps(frequent_two_item_count))\n",
    "data = s.recv(500000)"
   ]
  }
 ],
 "metadata": {
  "kernelspec": {
   "display_name": "Python 3",
   "language": "python",
   "name": "python3"
  },
  "language_info": {
   "codemirror_mode": {
    "name": "ipython",
    "version": 3
   },
   "file_extension": ".py",
   "mimetype": "text/x-python",
   "name": "python",
   "nbconvert_exporter": "python",
   "pygments_lexer": "ipython3",
   "version": "3.5.0"
  }
 },
 "nbformat": 4,
 "nbformat_minor": 2
}
