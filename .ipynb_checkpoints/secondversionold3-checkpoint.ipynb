{
 "cells": [
  {
   "cell_type": "code",
   "execution_count": 24,
   "metadata": {
    "collapsed": true
   },
   "outputs": [],
   "source": [
    "import pandas as pd\n",
    "import itertools as iter\n",
    "import re\n",
    "import numpy as np\n",
    "import socket\n",
    "import pickle\n",
    "from timeit import default_timer\n",
    "minimum_support = 160;"
   ]
  },
  {
   "cell_type": "code",
   "execution_count": 25,
   "metadata": {
    "collapsed": false
   },
   "outputs": [
    {
     "data": {
      "text/html": [
       "<div>\n",
       "<table border=\"1\" class=\"dataframe\">\n",
       "  <thead>\n",
       "    <tr style=\"text-align: right;\">\n",
       "      <th></th>\n",
       "      <th>A</th>\n",
       "      <th>B</th>\n",
       "      <th>C</th>\n",
       "      <th>D</th>\n",
       "      <th>E</th>\n",
       "      <th>F</th>\n",
       "      <th>G</th>\n",
       "    </tr>\n",
       "  </thead>\n",
       "  <tbody>\n",
       "    <tr>\n",
       "      <th>0</th>\n",
       "      <td>1</td>\n",
       "      <td>0</td>\n",
       "      <td>1</td>\n",
       "      <td>1</td>\n",
       "      <td>0</td>\n",
       "      <td>1</td>\n",
       "      <td>1</td>\n",
       "    </tr>\n",
       "    <tr>\n",
       "      <th>1</th>\n",
       "      <td>1</td>\n",
       "      <td>1</td>\n",
       "      <td>1</td>\n",
       "      <td>1</td>\n",
       "      <td>0</td>\n",
       "      <td>1</td>\n",
       "      <td>0</td>\n",
       "    </tr>\n",
       "    <tr>\n",
       "      <th>2</th>\n",
       "      <td>0</td>\n",
       "      <td>0</td>\n",
       "      <td>1</td>\n",
       "      <td>1</td>\n",
       "      <td>1</td>\n",
       "      <td>0</td>\n",
       "      <td>0</td>\n",
       "    </tr>\n",
       "    <tr>\n",
       "      <th>3</th>\n",
       "      <td>1</td>\n",
       "      <td>0</td>\n",
       "      <td>0</td>\n",
       "      <td>1</td>\n",
       "      <td>0</td>\n",
       "      <td>1</td>\n",
       "      <td>0</td>\n",
       "    </tr>\n",
       "    <tr>\n",
       "      <th>4</th>\n",
       "      <td>1</td>\n",
       "      <td>0</td>\n",
       "      <td>1</td>\n",
       "      <td>1</td>\n",
       "      <td>1</td>\n",
       "      <td>1</td>\n",
       "      <td>0</td>\n",
       "    </tr>\n",
       "    <tr>\n",
       "      <th>5</th>\n",
       "      <td>0</td>\n",
       "      <td>1</td>\n",
       "      <td>1</td>\n",
       "      <td>1</td>\n",
       "      <td>1</td>\n",
       "      <td>1</td>\n",
       "      <td>1</td>\n",
       "    </tr>\n",
       "  </tbody>\n",
       "</table>\n",
       "</div>"
      ],
      "text/plain": [
       "   A  B  C  D  E  F  G\n",
       "0  1  0  1  1  0  1  1\n",
       "1  1  1  1  1  0  1  0\n",
       "2  0  0  1  1  1  0  0\n",
       "3  1  0  0  1  0  1  0\n",
       "4  1  0  1  1  1  1  0\n",
       "5  0  1  1  1  1  1  1"
      ]
     },
     "execution_count": 25,
     "metadata": {},
     "output_type": "execute_result"
    }
   ],
   "source": [
    "transactions = pd.read_csv(\"dataset1.csv\")\n",
    "transactions"
   ]
  },
  {
   "cell_type": "code",
   "execution_count": 26,
   "metadata": {
    "collapsed": false
   },
   "outputs": [
    {
     "name": "stdout",
     "output_type": "stream",
     "text": [
      "A    4\n",
      "B    2\n",
      "C    5\n",
      "D    6\n",
      "E    3\n",
      "F    5\n",
      "G    2\n",
      "dtype: int64\n"
     ]
    }
   ],
   "source": [
    "one_item_count = transactions.sum(axis=0)\n",
    "print(one_item_count)"
   ]
  },
  {
   "cell_type": "code",
   "execution_count": 27,
   "metadata": {
    "collapsed": false
   },
   "outputs": [
    {
     "name": "stdout",
     "output_type": "stream",
     "text": [
      "A    4\n",
      "C    5\n",
      "D    6\n",
      "E    3\n",
      "F    5\n",
      "dtype: int64\n"
     ]
    }
   ],
   "source": [
    "frequent_one_item_count = one_item_count[one_item_count >= minimum_support]\n",
    "print(frequent_one_item_count)"
   ]
  },
  {
   "cell_type": "code",
   "execution_count": 28,
   "metadata": {
    "collapsed": false
   },
   "outputs": [],
   "source": [
    "def sendToServer(send_bytes):\n",
    "    host = '127.0.0.1'\n",
    "    port = 5000\n",
    "    s = socket.socket()\n",
    "    s.connect((host,port))\n",
    "    s.send(send_bytes)\n",
    "    received_bytes = s.recv(500000)\n",
    "    return received_bytes"
   ]
  },
  {
   "cell_type": "code",
   "execution_count": 29,
   "metadata": {
    "collapsed": false
   },
   "outputs": [
    {
     "name": "stdout",
     "output_type": "stream",
     "text": [
      "A    4.0\n",
      "C    5.0\n",
      "D    6.0\n",
      "E    3.0\n",
      "F    5.0\n",
      "dtype: float64\n"
     ]
    }
   ],
   "source": [
    "global_frequent_one_itemset = pickle.loads(sendToServer(pickle.dumps(frequent_one_item_count)))\n",
    "print(global_frequent_one_itemset)"
   ]
  },
  {
   "cell_type": "code",
   "execution_count": 30,
   "metadata": {
    "collapsed": false
   },
   "outputs": [],
   "source": [
    "# start = default_timer()\n",
    "# print (default_timer() - start)"
   ]
  },
  {
   "cell_type": "code",
   "execution_count": 31,
   "metadata": {
    "collapsed": false
   },
   "outputs": [],
   "source": [
    "def get_combinations(dataframe,dim):   \n",
    "    colComb = [a for a in iter.combinations(dataframe.columns,dim)]\n",
    "    return colComb\n",
    "\n",
    "def get_combinations2(start,end):\n",
    "    comb = (iter.combinations(lst, l) for l in range(start,end))\n",
    "    return list(iter.chain.from_iterable(comb))"
   ]
  },
  {
   "cell_type": "code",
   "execution_count": 32,
   "metadata": {
    "collapsed": false
   },
   "outputs": [
    {
     "name": "stdout",
     "output_type": "stream",
     "text": [
      "[('A', 'B'), ('A', 'C'), ('A', 'D'), ('A', 'E'), ('A', 'F'), ('A', 'G'), ('B', 'C'), ('B', 'D'), ('B', 'E'), ('B', 'F'), ('B', 'G'), ('C', 'D'), ('C', 'E'), ('C', 'F'), ('C', 'G'), ('D', 'E'), ('D', 'F'), ('D', 'G'), ('E', 'F'), ('E', 'G'), ('F', 'G')]\n",
      "A,C    3\n",
      "A,D    4\n",
      "A,E    1\n",
      "A,F    4\n",
      "C,D    5\n",
      "C,E    3\n",
      "C,F    4\n",
      "D,E    3\n",
      "D,F    5\n",
      "E,F    2\n",
      "dtype: int64\n"
     ]
    }
   ],
   "source": [
    "two_item_count = pd.Series()\n",
    "combinations = get_combinations(transactions,2)\n",
    "print(combinations)\n",
    "for column_index in combinations: \n",
    "    columns = str(column_index).strip(\"(,')\").split()\n",
    "    column1 = columns[0].strip(\"',\")\n",
    "    column2 = columns[1].strip(\"',\")\n",
    "    if(column1 in global_frequent_one_itemset.index and column2 in global_frequent_one_itemset.index):\n",
    "        temp = pd.Series([(transactions[column1] & transactions[column2]).sum()],index = [column1+\",\"+column2])\n",
    "        \n",
    "        two_item_count = two_item_count.append(temp)\n",
    "    \n",
    "print(two_item_count)"
   ]
  },
  {
   "cell_type": "code",
   "execution_count": 38,
   "metadata": {
    "collapsed": false
   },
   "outputs": [
    {
     "name": "stdout",
     "output_type": "stream",
     "text": [
      "A,C    3\n",
      "A,D    4\n",
      "A,F    4\n",
      "C,D    5\n",
      "C,E    3\n",
      "C,F    4\n",
      "D,E    3\n",
      "D,F    5\n",
      "dtype: int64\n"
     ]
    }
   ],
   "source": [
    "frequent_two_item_count = two_item_count[two_item_count>=minimum_support]\n",
    "print(frequent_two_item_count)"
   ]
  },
  {
   "cell_type": "code",
   "execution_count": 39,
   "metadata": {
    "collapsed": true
   },
   "outputs": [],
   "source": [
    "global_frequent_two_itemset = pickle.loads(sendToServer(pickle.dumps(frequent_two_item_count)))"
   ]
  },
  {
   "cell_type": "code",
   "execution_count": 40,
   "metadata": {
    "collapsed": false
   },
   "outputs": [
    {
     "name": "stdout",
     "output_type": "stream",
     "text": [
      "A,C    3.0\n",
      "A,D    4.0\n",
      "A,F    4.0\n",
      "C,D    5.0\n",
      "C,E    3.0\n",
      "C,F    4.0\n",
      "D,E    3.0\n",
      "D,F    5.0\n",
      "dtype: float64\n"
     ]
    }
   ],
   "source": [
    "print(global_frequent_two_itemset)"
   ]
  },
  {
   "cell_type": "code",
   "execution_count": 41,
   "metadata": {
    "collapsed": false
   },
   "outputs": [
    {
     "name": "stdout",
     "output_type": "stream",
     "text": [
      "A,C,D    3\n",
      "A,C,F    3\n",
      "A,D,F    4\n",
      "C,D,E    5\n",
      "C,D,F    5\n",
      "dtype: int64\n"
     ]
    }
   ],
   "source": [
    "three_item_count = pd.Series()\n",
    "combinations = get_combinations(transactions,3)\n",
    "for column_index in combinations: \n",
    "    columns = str(column_index).strip(\"(,')\").split()\n",
    "    column1 = columns[0].strip(\"',\")\n",
    "    column2 = columns[1].strip(\"',\")\n",
    "    column3 = columns[2].strip(\"',\")\n",
    "    if((column1+\",\"+column2) in global_frequent_two_itemset.index and (column1+\",\"+column3) in global_frequent_two_itemset.index and (column2+\",\"+column3) in global_frequent_two_itemset.index\\\n",
    "):\n",
    "        #print(\"hey\")\n",
    "        temp = pd.Series([(transactions[column1] & transactions[column2] & (transactions[column1])).sum()],index = [column1+\",\"+column2+\",\"+column3])\n",
    "        \n",
    "        three_item_count = three_item_count.append(temp)\n",
    "    \n",
    "print(three_item_count)"
   ]
  },
  {
   "cell_type": "code",
   "execution_count": 42,
   "metadata": {
    "collapsed": false
   },
   "outputs": [
    {
     "name": "stdout",
     "output_type": "stream",
     "text": [
      "A,C,D    3\n",
      "A,C,F    3\n",
      "A,D,F    4\n",
      "C,D,E    5\n",
      "C,D,F    5\n",
      "dtype: int64\n"
     ]
    }
   ],
   "source": [
    "frequent_three_item_count = three_item_count[three_item_count>=minimum_support]\n",
    "print(frequent_three_item_count)"
   ]
  },
  {
   "cell_type": "code",
   "execution_count": 43,
   "metadata": {
    "collapsed": false
   },
   "outputs": [],
   "source": [
    "global_frequent_three_itemset = pickle.loads(sendToServer(pickle.dumps(frequent_three_item_count))).to_frame()"
   ]
  },
  {
   "cell_type": "code",
   "execution_count": 44,
   "metadata": {
    "collapsed": false
   },
   "outputs": [
    {
     "name": "stdout",
     "output_type": "stream",
     "text": [
      "         0\n",
      "A,C,D  3.0\n",
      "A,C,F  3.0\n",
      "A,D,F  4.0\n",
      "C,D,E  5.0\n",
      "C,D,F  5.0\n"
     ]
    }
   ],
   "source": [
    "print(global_frequent_three_itemset)"
   ]
  },
  {
   "cell_type": "code",
   "execution_count": null,
   "metadata": {
    "collapsed": true
   },
   "outputs": [],
   "source": []
  }
 ],
 "metadata": {
  "anaconda-cloud": {},
  "kernelspec": {
   "display_name": "Python 3",
   "language": "python",
   "name": "python3"
  },
  "language_info": {
   "codemirror_mode": {
    "name": "ipython",
    "version": 3
   },
   "file_extension": ".py",
   "mimetype": "text/x-python",
   "name": "python",
   "nbconvert_exporter": "python",
   "pygments_lexer": "ipython3",
   "version": "3.5.0"
  }
 },
 "nbformat": 4,
 "nbformat_minor": 2
}
